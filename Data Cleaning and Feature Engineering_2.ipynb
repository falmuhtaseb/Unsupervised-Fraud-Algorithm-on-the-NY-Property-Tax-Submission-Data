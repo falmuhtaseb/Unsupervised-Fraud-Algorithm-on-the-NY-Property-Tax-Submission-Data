{
 "cells": [
  {
   "cell_type": "code",
   "execution_count": 1,
   "metadata": {},
   "outputs": [],
   "source": [
    "from datetime import datetime\n",
    "start_time = datetime.now()\n",
    "\n",
    "# Libraries to install\n",
    "# %pip install pandas-profiling\n",
    "\n",
    "import pandas as pd\n",
    "import numpy as np\n",
    "import matplotlib.pyplot as plt\n",
    "import seaborn as sns\n",
    "%matplotlib inline\n",
    "import statistics"
   ]
  },
  {
   "cell_type": "markdown",
   "metadata": {},
   "source": [
    "## Reading Data"
   ]
  },
  {
   "cell_type": "code",
   "execution_count": 2,
   "metadata": {},
   "outputs": [],
   "source": [
    "data = pd.read_csv('NY property data.csv')"
   ]
  },
  {
   "cell_type": "code",
   "execution_count": 3,
   "metadata": {},
   "outputs": [
    {
     "data": {
      "text/plain": [
       "(1070994, 32)"
      ]
     },
     "execution_count": 3,
     "metadata": {},
     "output_type": "execute_result"
    }
   ],
   "source": [
    "data.shape"
   ]
  },
  {
   "cell_type": "markdown",
   "metadata": {},
   "source": [
    "## Remove Exclusion Records"
   ]
  },
  {
   "cell_type": "code",
   "execution_count": 4,
   "metadata": {},
   "outputs": [
    {
     "data": {
      "text/plain": [
       "['PARKCHESTER PRESERVAT',\n",
       " 'PARKS AND RECREATION',\n",
       " 'DCAS',\n",
       " 'HOUSING PRESERVATION',\n",
       " 'CITY OF NEW YORK',\n",
       " 'DEPT OF ENVIRONMENTAL',\n",
       " 'BOARD OF EDUCATION',\n",
       " 'NEW YORK CITY HOUSING',\n",
       " 'CNY/NYCTA',\n",
       " 'NYC HOUSING PARTNERSH',\n",
       " 'YORKVILLE TOWERS ASSO',\n",
       " 'DEPARTMENT OF BUSINES',\n",
       " 'DEPT OF TRANSPORTATIO',\n",
       " 'MTA/LIRR',\n",
       " 'PARCKHESTER PRESERVAT',\n",
       " 'MH RESIDENTIAL 1, LLC',\n",
       " '434 M LLC',\n",
       " 'LINCOLN PLAZA ASSOCIA',\n",
       " 'DEUTSCHE BANK NATIONA',\n",
       " '561 11TH AVENUE TMG L']"
      ]
     },
     "execution_count": 4,
     "metadata": {},
     "output_type": "execute_result"
    }
   ],
   "source": [
    "# first look at the most frequent owners\n",
    "remove_list=data['OWNER'].value_counts().head(20).index.tolist()\n",
    "remove_list"
   ]
  },
  {
   "cell_type": "code",
   "execution_count": 5,
   "metadata": {},
   "outputs": [],
   "source": [
    "# remove some of these and add some others to also be removed\n",
    "remove_list.remove('YORKVILLE TOWERS ASSO')\n",
    "remove_list.remove('434 M LLC')\n",
    "remove_list.remove('DEUTSCHE BANK NATIONA')\n",
    "remove_list.remove('561 11TH AVENUE TMG L')\n",
    "remove_list.append('UNITED STATES OF AMER')\n",
    "remove_list.append('U S GOVERNMENT OWNRD')\n",
    "remove_list.append('THE CITY OF NEW YORK')\n",
    "remove_list.append('NYS URBAN DEVELOPMENT')\n",
    "remove_list.append('NYS DEPT OF ENVIRONME')\n",
    "remove_list.append('CULTURAL AFFAIRS')\n",
    "remove_list.append('DEPT OF GENERAL SERVI')\n",
    "remove_list.append('DEPT RE-CITY OF NY')"
   ]
  },
  {
   "cell_type": "code",
   "execution_count": 6,
   "metadata": {},
   "outputs": [
    {
     "data": {
      "text/plain": [
       "['PARKCHESTER PRESERVAT',\n",
       " 'PARKS AND RECREATION',\n",
       " 'DCAS',\n",
       " 'HOUSING PRESERVATION',\n",
       " 'CITY OF NEW YORK',\n",
       " 'DEPT OF ENVIRONMENTAL',\n",
       " 'BOARD OF EDUCATION',\n",
       " 'NEW YORK CITY HOUSING',\n",
       " 'CNY/NYCTA',\n",
       " 'NYC HOUSING PARTNERSH',\n",
       " 'DEPARTMENT OF BUSINES',\n",
       " 'DEPT OF TRANSPORTATIO',\n",
       " 'MTA/LIRR',\n",
       " 'PARCKHESTER PRESERVAT',\n",
       " 'MH RESIDENTIAL 1, LLC',\n",
       " 'LINCOLN PLAZA ASSOCIA',\n",
       " 'UNITED STATES OF AMER',\n",
       " 'U S GOVERNMENT OWNRD',\n",
       " 'THE CITY OF NEW YORK',\n",
       " 'NYS URBAN DEVELOPMENT',\n",
       " 'NYS DEPT OF ENVIRONME',\n",
       " 'CULTURAL AFFAIRS',\n",
       " 'DEPT OF GENERAL SERVI',\n",
       " 'DEPT RE-CITY OF NY']"
      ]
     },
     "execution_count": 6,
     "metadata": {},
     "output_type": "execute_result"
    }
   ],
   "source": [
    "remove_list"
   ]
  },
  {
   "cell_type": "code",
   "execution_count": 7,
   "metadata": {},
   "outputs": [
    {
     "data": {
      "text/plain": [
       "(1046826, 32)"
      ]
     },
     "execution_count": 7,
     "metadata": {},
     "output_type": "execute_result"
    }
   ],
   "source": [
    "property_data = data[~data['OWNER'].isin(remove_list)].reset_index(drop=True)\n",
    "property_data.shape"
   ]
  },
  {
   "cell_type": "code",
   "execution_count": 8,
   "metadata": {},
   "outputs": [
    {
     "data": {
      "text/plain": [
       "(1070994, 32)"
      ]
     },
     "execution_count": 8,
     "metadata": {},
     "output_type": "execute_result"
    }
   ],
   "source": [
    "data.shape"
   ]
  },
  {
   "cell_type": "code",
   "execution_count": 9,
   "metadata": {},
   "outputs": [
    {
     "data": {
      "text/plain": [
       "24168"
      ]
     },
     "execution_count": 9,
     "metadata": {},
     "output_type": "execute_result"
    }
   ],
   "source": [
    "# this is how many records we removed\n",
    "len(data) - len(property_data)"
   ]
  },
  {
   "cell_type": "markdown",
   "metadata": {},
   "source": [
    "## Filling in Missing ZIPS"
   ]
  },
  {
   "cell_type": "code",
   "execution_count": 10,
   "metadata": {},
   "outputs": [
    {
     "data": {
      "text/plain": [
       "21772"
      ]
     },
     "execution_count": 10,
     "metadata": {},
     "output_type": "execute_result"
    }
   ],
   "source": [
    "# How many zips are missing? Replace NAN with 0 and count them\n",
    "missing_zips = np.where(pd.isnull(property_data['ZIP']))[0]\n",
    "len(missing_zips)"
   ]
  },
  {
   "cell_type": "code",
   "execution_count": 11,
   "metadata": {},
   "outputs": [],
   "source": [
    "# Assume the data is already sorted by zip. If a zip is missing, \n",
    "# and the before and after zips are the same, fill in the zip with that value\n",
    "for i in range(len(missing_zips)):\n",
    "    if(property_data.loc[missing_zips[i]+1,'ZIP'] == property_data.loc[missing_zips[i]-1,'ZIP']):\n",
    "        property_data.loc[missing_zips[i],'ZIP'] = property_data.loc[missing_zips[i]-1,'ZIP']"
   ]
  },
  {
   "cell_type": "code",
   "execution_count": 12,
   "metadata": {},
   "outputs": [
    {
     "data": {
      "text/plain": [
       "10245"
      ]
     },
     "execution_count": 12,
     "metadata": {},
     "output_type": "execute_result"
    }
   ],
   "source": [
    "# How many are still left to fill in?\n",
    "missing_zips = np.where(pd.isnull(property_data['ZIP']))[0]\n",
    "len(missing_zips)"
   ]
  },
  {
   "cell_type": "code",
   "execution_count": 13,
   "metadata": {},
   "outputs": [
    {
     "data": {
      "text/plain": [
       "0"
      ]
     },
     "execution_count": 13,
     "metadata": {},
     "output_type": "execute_result"
    }
   ],
   "source": [
    "# for the remaining missing zips, just fill in with previous record zip.\n",
    "for i in range(len(missing_zips)):\n",
    "    property_data.loc[missing_zips[i],'ZIP'] = property_data.loc[missing_zips[i]-1,'ZIP']\n",
    "missing_zips = np.where(pd.isnull(property_data['ZIP']))[0]\n",
    "len(missing_zips)"
   ]
  },
  {
   "cell_type": "markdown",
   "metadata": {},
   "source": [
    "## Filling in Missing STORIES"
   ]
  },
  {
   "cell_type": "code",
   "execution_count": 14,
   "metadata": {},
   "outputs": [
    {
     "data": {
      "text/plain": [
       "43968"
      ]
     },
     "execution_count": 14,
     "metadata": {},
     "output_type": "execute_result"
    }
   ],
   "source": [
    "temp = property_data[property_data['STORIES'].isnull()]\n",
    "len(temp)"
   ]
  },
  {
   "cell_type": "code",
   "execution_count": 15,
   "metadata": {},
   "outputs": [
    {
     "data": {
      "text/plain": [
       "1B    19055\n",
       "4     17979\n",
       "2      3434\n",
       "3      2416\n",
       "1       877\n",
       "2C      138\n",
       "2B       34\n",
       "2A       30\n",
       "1A        5\n",
       "Name: TAXCLASS, dtype: int64"
      ]
     },
     "execution_count": 15,
     "metadata": {},
     "output_type": "execute_result"
    }
   ],
   "source": [
    "temp['TAXCLASS'].value_counts()"
   ]
  },
  {
   "cell_type": "code",
   "execution_count": 16,
   "metadata": {},
   "outputs": [
    {
     "name": "stdout",
     "output_type": "stream",
     "text": [
      "TAXCLASS\n",
      "1      2.111633\n",
      "1A     1.656867\n",
      "1B     4.000000\n",
      "1C     3.052748\n",
      "1D     1.068966\n",
      "2     16.310549\n",
      "2A     2.844032\n",
      "2B     4.001635\n",
      "2C     4.744977\n",
      "3      1.000000\n",
      "4      5.517257\n",
      "Name: STORIES, dtype: float64\n"
     ]
    }
   ],
   "source": [
    "# calculate avergae STORIES by tax class\n",
    "mean_stories = property_data.groupby('TAXCLASS')['STORIES'].mean()\n",
    "print(mean_stories)"
   ]
  },
  {
   "cell_type": "code",
   "execution_count": 17,
   "metadata": {},
   "outputs": [
    {
     "data": {
      "text/plain": [
       "0"
      ]
     },
     "execution_count": 17,
     "metadata": {},
     "output_type": "execute_result"
    }
   ],
   "source": [
    "len(property_data[property_data['STORIES']==0])"
   ]
  },
  {
   "cell_type": "code",
   "execution_count": 18,
   "metadata": {},
   "outputs": [],
   "source": [
    "# fill in with the average by tax class\n",
    "property_data['STORIES']=property_data['STORIES'].fillna(value=0)\n",
    "for index in mean_stories.index:\n",
    "    property_data.loc[(property_data['STORIES']==0)&(property_data['TAXCLASS']==index),'STORIES']=mean_stories[index]"
   ]
  },
  {
   "cell_type": "markdown",
   "metadata": {},
   "source": [
    "## Filling In Missing FULLVAL, AVLAND, AVTOT"
   ]
  },
  {
   "cell_type": "markdown",
   "metadata": {},
   "source": [
    "### Calculate means for AVTOT, AVLAND, FULLVAL by taxclass, avoiding the records with zeros"
   ]
  },
  {
   "cell_type": "code",
   "execution_count": 19,
   "metadata": {},
   "outputs": [
    {
     "name": "stdout",
     "output_type": "stream",
     "text": [
      "TAXCLASS\n",
      "1     5.700059e+05\n",
      "1A    3.352942e+05\n",
      "1B    3.738399e+05\n",
      "1C    7.615359e+05\n",
      "1D    2.233614e+07\n",
      "2     8.005832e+05\n",
      "2A    8.639066e+05\n",
      "2B    1.254525e+06\n",
      "2C    7.723493e+05\n",
      "3     8.510005e+04\n",
      "4     2.772747e+06\n",
      "Name: FULLVAL, dtype: float64\n"
     ]
    }
   ],
   "source": [
    "## FULLVAL means\n",
    "property_data['FULLVAL'].replace('NaN',0)\n",
    "temp=property_data[property_data['FULLVAL']!=0]\n",
    "mean_fullval=temp.groupby('TAXCLASS')['FULLVAL'].mean()\n",
    "print(mean_fullval)"
   ]
  },
  {
   "cell_type": "code",
   "execution_count": 20,
   "metadata": {},
   "outputs": [
    {
     "name": "stdout",
     "output_type": "stream",
     "text": [
      "TAXCLASS\n",
      "1      14901.860425\n",
      "1A      2247.472465\n",
      "1B      9185.394750\n",
      "1C      8225.658898\n",
      "1D    709303.793103\n",
      "2      88471.102578\n",
      "2A     31370.740197\n",
      "2B     54607.394911\n",
      "2C     25635.944099\n",
      "3      28135.636364\n",
      "4     444996.049088\n",
      "Name: AVLAND, dtype: float64\n"
     ]
    }
   ],
   "source": [
    "# AVLAND means\n",
    "property_data['AVLAND'].replace('NaN',0)\n",
    "temp_avland=property_data[property_data['AVLAND']!=0]\n",
    "mean_avland=temp_avland.groupby('TAXCLASS')['AVLAND'].mean()\n",
    "print(mean_avland)"
   ]
  },
  {
   "cell_type": "code",
   "execution_count": 21,
   "metadata": {},
   "outputs": [
    {
     "name": "stdout",
     "output_type": "stream",
     "text": [
      "TAXCLASS\n",
      "1     2.502549e+04\n",
      "1A    1.437036e+04\n",
      "1B    9.189080e+03\n",
      "1C    2.898447e+04\n",
      "1D    1.166866e+06\n",
      "2     3.602638e+05\n",
      "2A    7.963525e+04\n",
      "2B    1.790961e+05\n",
      "2C    1.170418e+05\n",
      "3     3.829505e+04\n",
      "4     1.294237e+06\n",
      "Name: AVTOT, dtype: float64\n"
     ]
    }
   ],
   "source": [
    "# AVTOT means\n",
    "property_data['AVTOT'].replace('NaN',0)\n",
    "temp_avtot=property_data[property_data['AVTOT']!=0]\n",
    "mean_avtot=temp_avtot.groupby('TAXCLASS')['AVTOT'].mean()\n",
    "print(mean_avtot)"
   ]
  },
  {
   "cell_type": "markdown",
   "metadata": {},
   "source": [
    "### Subsituting decent values for AVTOT, AVLAND, FULLVAL from averages by taxclass"
   ]
  },
  {
   "cell_type": "code",
   "execution_count": 22,
   "metadata": {},
   "outputs": [
    {
     "name": "stdout",
     "output_type": "stream",
     "text": [
      "CPU times: user 1.85 s, sys: 55.6 ms, total: 1.9 s\n",
      "Wall time: 1.79 s\n"
     ]
    }
   ],
   "source": [
    "%%time\n",
    "for index in mean_fullval.index:\n",
    "    property_data.loc[(property_data['FULLVAL']==0)&(property_data['TAXCLASS']==index),'FULLVAL']=mean_fullval[index]\n",
    "    property_data.loc[(property_data['AVLAND']==0)&(property_data['TAXCLASS']==index),'AVLAND']=mean_avland[index]\n",
    "    property_data.loc[(property_data['AVTOT']==0)&(property_data['TAXCLASS']==index),'AVTOT']=mean_avtot[index]"
   ]
  },
  {
   "attachments": {},
   "cell_type": "markdown",
   "metadata": {},
   "source": [
    "## Filling In Missing Lot and Building Sizes"
   ]
  },
  {
   "cell_type": "code",
   "execution_count": 23,
   "metadata": {},
   "outputs": [],
   "source": [
    "# Because these 4 fields do not have NAs, we just need to replace 0s and the 1s. \n",
    "# We think zero and 1 are both  invalid values for these fields, so replace them with NA.\n",
    "# Calculate groupwise average. Replace 0 and 1's by NAs so they are not counted in calculating mean.\n",
    "property_data.loc[property_data['LTFRONT']==0,'LTFRONT']=np.nan\n",
    "property_data.loc[property_data['LTDEPTH']==0,'LTDEPTH']=np.nan\n",
    "property_data.loc[property_data['BLDFRONT']==0,'BLDFRONT']=np.nan\n",
    "property_data.loc[property_data['BLDDEPTH']==0,'BLDDEPTH']=np.nan\n",
    "property_data.loc[property_data['LTFRONT']==1,'LTFRONT']=np.nan\n",
    "property_data.loc[property_data['LTDEPTH']==1,'LTDEPTH']=np.nan\n",
    "property_data.loc[property_data['BLDFRONT']==1,'BLDFRONT']=np.nan\n",
    "property_data.loc[property_data['BLDDEPTH']==1,'BLDDEPTH']=np.nan"
   ]
  },
  {
   "cell_type": "code",
   "execution_count": 24,
   "metadata": {},
   "outputs": [],
   "source": [
    "# Calculate mean now (mean function ignores NAs but not 0s hence we converted 0 to NA)\n",
    "mean_LTFRONT=property_data.groupby(property_data['TAXCLASS'])['LTFRONT'].mean()\n",
    "mean_LTDEPTH=property_data.groupby(property_data['TAXCLASS'])['LTDEPTH'].mean()\n",
    "mean_BLDFRONT=property_data.groupby(property_data['TAXCLASS'])['BLDFRONT'].mean()\n",
    "mean_BLDDEPTH=property_data.groupby(property_data['TAXCLASS'])['BLDDEPTH'].mean()"
   ]
  },
  {
   "cell_type": "code",
   "execution_count": 25,
   "metadata": {},
   "outputs": [],
   "source": [
    "# Now impute values with the average for that record's TAXCLASS\n",
    "for index in mean_LTFRONT.index:\n",
    "    property_data.loc[(property_data['LTFRONT'].isnull())&(property_data['TAXCLASS']==index),'LTFRONT']=mean_LTFRONT[index]    \n",
    "    property_data.loc[(property_data['LTDEPTH'].isnull())&(property_data['TAXCLASS']==index),'LTDEPTH']=mean_LTDEPTH[index]\n",
    "    property_data.loc[(property_data['BLDFRONT'].isnull())&(property_data['TAXCLASS']==index),'BLDFRONT']=mean_BLDFRONT[index]\n",
    "    property_data.loc[(property_data['BLDDEPTH'].isnull())&(property_data['TAXCLASS']==index),'BLDDEPTH']=mean_BLDDEPTH[index]"
   ]
  },
  {
   "attachments": {},
   "cell_type": "markdown",
   "metadata": {},
   "source": [
    "## Some Code Help for Making NY Variables"
   ]
  },
  {
   "cell_type": "code",
   "execution_count": 26,
   "metadata": {},
   "outputs": [
    {
     "data": {
      "text/plain": [
       "(1046826, 32)"
      ]
     },
     "execution_count": 26,
     "metadata": {},
     "output_type": "execute_result"
    }
   ],
   "source": [
    "data = property_data.copy()\n",
    "data.shape"
   ]
  },
  {
   "cell_type": "code",
   "execution_count": 27,
   "metadata": {},
   "outputs": [],
   "source": [
    "# convert ZIP to a string rather than a float\n",
    "# We call the first three digits of a zip zip3\n",
    "data['ZIP'] = data['ZIP'].astype(str)\n",
    "data['zip3'] = data['ZIP'].str[:3]"
   ]
  },
  {
   "cell_type": "code",
   "execution_count": 28,
   "metadata": {},
   "outputs": [],
   "source": [
    "# feature engineering\n",
    "data['ltsize'] = data['LTFRONT'] * data['LTDEPTH']\n",
    "data['bldsize'] = data['BLDFRONT'] * data['BLDDEPTH']\n",
    "data['bldvol'] = data['bldsize'] * data['STORIES']"
   ]
  },
  {
   "cell_type": "code",
   "execution_count": 29,
   "metadata": {},
   "outputs": [],
   "source": [
    "data['r1'] = data['FULLVAL'] / data['ltsize']\n",
    "data['r2'] = data['FULLVAL'] / data['bldsize']\n",
    "data['r3'] = data['FULLVAL'] / data['bldvol']\n",
    "data['r4'] = data['AVLAND'] / data['ltsize']\n",
    "data['r5'] = data['AVLAND'] / data['bldsize']\n",
    "data['r6'] = data['AVLAND'] / data['bldvol']\n",
    "data['r7'] = data['AVTOT'] / data['ltsize']\n",
    "data['r8'] = data['AVTOT'] / data['bldsize']\n",
    "data['r9'] = data['AVTOT'] / data['bldvol']"
   ]
  },
  {
   "cell_type": "code",
   "execution_count": 30,
   "metadata": {},
   "outputs": [
    {
     "name": "stdout",
     "output_type": "stream",
     "text": [
      "CPU times: user 2.38 s, sys: 642 ms, total: 3.03 s\n",
      "Wall time: 2.62 s\n"
     ]
    }
   ],
   "source": [
    "%%time\n",
    "ninevars = ['r1','r2','r3','r4','r5','r6','r7','r8','r9']\n",
    "zip5_mean = data.groupby('ZIP')[ninevars].mean()\n",
    "zip3_mean = data.groupby('zip3')[ninevars].mean()\n",
    "taxclass_mean = data.groupby('TAXCLASS')[ninevars].mean()\n",
    "borough_mean = data.groupby('BORO')[ninevars].mean()\n",
    "data = data.join(zip5_mean, on='ZIP', rsuffix = '_zip5')\n",
    "data = data.join(zip3_mean, on='zip3', rsuffix = '_zip3')\n",
    "data = data.join(taxclass_mean, on='TAXCLASS', rsuffix = '_taxclass')\n",
    "data = data.join(borough_mean, on='BORO', rsuffix = '_boro')\n",
    "rsuffix = ['_zip5', '_zip3', '_taxclass', '_boro']\n",
    "for var in ninevars:\n",
    "    for r in rsuffix:\n",
    "        data[str(var)+r] = data[var] / data[str(var)+r]"
   ]
  },
  {
   "cell_type": "code",
   "execution_count": 31,
   "metadata": {},
   "outputs": [],
   "source": [
    "a = data[['r1', 'r2', 'r3', 'r4', 'r5', 'r6', 'r7', 'r8', 'r9',\n",
    "       'r1_zip5', 'r2_zip5', 'r3_zip5', 'r4_zip5', 'r5_zip5', 'r6_zip5',\n",
    "       'r7_zip5', 'r8_zip5', 'r9_zip5', 'r1_zip3', 'r2_zip3', 'r3_zip3',\n",
    "       'r4_zip3', 'r5_zip3', 'r6_zip3', 'r7_zip3', 'r8_zip3', 'r9_zip3',\n",
    "       'r1_taxclass', 'r2_taxclass', 'r3_taxclass', 'r4_taxclass',\n",
    "       'r5_taxclass', 'r6_taxclass', 'r7_taxclass', 'r8_taxclass',\n",
    "       'r9_taxclass', 'r1_boro', 'r2_boro', 'r3_boro', 'r4_boro', 'r5_boro',\n",
    "       'r6_boro', 'r7_boro', 'r8_boro', 'r9_boro']].describe().round(2)\n",
    "a=a.transpose()"
   ]
  },
  {
   "cell_type": "code",
   "execution_count": 32,
   "metadata": {},
   "outputs": [
    {
     "data": {
      "text/html": [
       "<div>\n",
       "<style scoped>\n",
       "    .dataframe tbody tr th:only-of-type {\n",
       "        vertical-align: middle;\n",
       "    }\n",
       "\n",
       "    .dataframe tbody tr th {\n",
       "        vertical-align: top;\n",
       "    }\n",
       "\n",
       "    .dataframe thead th {\n",
       "        text-align: right;\n",
       "    }\n",
       "</style>\n",
       "<table border=\"1\" class=\"dataframe\">\n",
       "  <thead>\n",
       "    <tr style=\"text-align: right;\">\n",
       "      <th></th>\n",
       "      <th>count</th>\n",
       "      <th>mean</th>\n",
       "      <th>std</th>\n",
       "      <th>min</th>\n",
       "      <th>25%</th>\n",
       "      <th>50%</th>\n",
       "      <th>75%</th>\n",
       "      <th>max</th>\n",
       "    </tr>\n",
       "  </thead>\n",
       "  <tbody>\n",
       "    <tr>\n",
       "      <th>r1</th>\n",
       "      <td>1046826.0</td>\n",
       "      <td>213.57</td>\n",
       "      <td>532.56</td>\n",
       "      <td>0.0</td>\n",
       "      <td>76.26</td>\n",
       "      <td>152.86</td>\n",
       "      <td>243.18</td>\n",
       "      <td>138637.34</td>\n",
       "    </tr>\n",
       "    <tr>\n",
       "      <th>r2</th>\n",
       "      <td>1046826.0</td>\n",
       "      <td>536.42</td>\n",
       "      <td>1027.44</td>\n",
       "      <td>0.0</td>\n",
       "      <td>211.82</td>\n",
       "      <td>500.00</td>\n",
       "      <td>683.82</td>\n",
       "      <td>310551.57</td>\n",
       "    </tr>\n",
       "    <tr>\n",
       "      <th>r3</th>\n",
       "      <td>1046826.0</td>\n",
       "      <td>244.08</td>\n",
       "      <td>498.82</td>\n",
       "      <td>0.0</td>\n",
       "      <td>82.50</td>\n",
       "      <td>239.06</td>\n",
       "      <td>336.23</td>\n",
       "      <td>227500.00</td>\n",
       "    </tr>\n",
       "    <tr>\n",
       "      <th>r4</th>\n",
       "      <td>1046826.0</td>\n",
       "      <td>10.46</td>\n",
       "      <td>69.98</td>\n",
       "      <td>0.0</td>\n",
       "      <td>2.35</td>\n",
       "      <td>4.60</td>\n",
       "      <td>7.23</td>\n",
       "      <td>22249.80</td>\n",
       "    </tr>\n",
       "    <tr>\n",
       "      <th>r5</th>\n",
       "      <td>1046826.0</td>\n",
       "      <td>22.82</td>\n",
       "      <td>378.51</td>\n",
       "      <td>0.0</td>\n",
       "      <td>6.20</td>\n",
       "      <td>14.98</td>\n",
       "      <td>20.29</td>\n",
       "      <td>334636.37</td>\n",
       "    </tr>\n",
       "    <tr>\n",
       "      <th>r6</th>\n",
       "      <td>1046826.0</td>\n",
       "      <td>10.04</td>\n",
       "      <td>178.33</td>\n",
       "      <td>0.0</td>\n",
       "      <td>2.02</td>\n",
       "      <td>7.15</td>\n",
       "      <td>10.04</td>\n",
       "      <td>111545.46</td>\n",
       "    </tr>\n",
       "    <tr>\n",
       "      <th>r7</th>\n",
       "      <td>1046826.0</td>\n",
       "      <td>26.83</td>\n",
       "      <td>203.87</td>\n",
       "      <td>0.0</td>\n",
       "      <td>5.28</td>\n",
       "      <td>8.58</td>\n",
       "      <td>13.53</td>\n",
       "      <td>64711.85</td>\n",
       "    </tr>\n",
       "    <tr>\n",
       "      <th>r8</th>\n",
       "      <td>1046826.0</td>\n",
       "      <td>50.46</td>\n",
       "      <td>932.20</td>\n",
       "      <td>0.0</td>\n",
       "      <td>17.47</td>\n",
       "      <td>26.98</td>\n",
       "      <td>36.00</td>\n",
       "      <td>871362.22</td>\n",
       "    </tr>\n",
       "    <tr>\n",
       "      <th>r9</th>\n",
       "      <td>1046826.0</td>\n",
       "      <td>19.07</td>\n",
       "      <td>327.02</td>\n",
       "      <td>0.0</td>\n",
       "      <td>7.09</td>\n",
       "      <td>12.68</td>\n",
       "      <td>17.58</td>\n",
       "      <td>290454.07</td>\n",
       "    </tr>\n",
       "    <tr>\n",
       "      <th>r1_zip5</th>\n",
       "      <td>1046826.0</td>\n",
       "      <td>1.00</td>\n",
       "      <td>2.16</td>\n",
       "      <td>0.0</td>\n",
       "      <td>0.46</td>\n",
       "      <td>0.92</td>\n",
       "      <td>1.23</td>\n",
       "      <td>747.76</td>\n",
       "    </tr>\n",
       "    <tr>\n",
       "      <th>r2_zip5</th>\n",
       "      <td>1046826.0</td>\n",
       "      <td>1.00</td>\n",
       "      <td>2.13</td>\n",
       "      <td>0.0</td>\n",
       "      <td>0.44</td>\n",
       "      <td>0.96</td>\n",
       "      <td>1.26</td>\n",
       "      <td>658.74</td>\n",
       "    </tr>\n",
       "    <tr>\n",
       "      <th>r3_zip5</th>\n",
       "      <td>1046826.0</td>\n",
       "      <td>1.00</td>\n",
       "      <td>2.73</td>\n",
       "      <td>0.0</td>\n",
       "      <td>0.39</td>\n",
       "      <td>0.93</td>\n",
       "      <td>1.24</td>\n",
       "      <td>956.75</td>\n",
       "    </tr>\n",
       "    <tr>\n",
       "      <th>r4_zip5</th>\n",
       "      <td>1046826.0</td>\n",
       "      <td>1.00</td>\n",
       "      <td>5.13</td>\n",
       "      <td>0.0</td>\n",
       "      <td>0.28</td>\n",
       "      <td>0.75</td>\n",
       "      <td>1.10</td>\n",
       "      <td>2456.16</td>\n",
       "    </tr>\n",
       "    <tr>\n",
       "      <th>r5_zip5</th>\n",
       "      <td>1046826.0</td>\n",
       "      <td>1.00</td>\n",
       "      <td>8.17</td>\n",
       "      <td>0.0</td>\n",
       "      <td>0.34</td>\n",
       "      <td>0.80</td>\n",
       "      <td>1.08</td>\n",
       "      <td>5004.51</td>\n",
       "    </tr>\n",
       "    <tr>\n",
       "      <th>r6_zip5</th>\n",
       "      <td>1046826.0</td>\n",
       "      <td>1.00</td>\n",
       "      <td>10.01</td>\n",
       "      <td>0.0</td>\n",
       "      <td>0.25</td>\n",
       "      <td>0.73</td>\n",
       "      <td>1.02</td>\n",
       "      <td>4200.70</td>\n",
       "    </tr>\n",
       "    <tr>\n",
       "      <th>r7_zip5</th>\n",
       "      <td>1046826.0</td>\n",
       "      <td>1.00</td>\n",
       "      <td>5.81</td>\n",
       "      <td>0.0</td>\n",
       "      <td>0.29</td>\n",
       "      <td>0.63</td>\n",
       "      <td>0.95</td>\n",
       "      <td>3237.54</td>\n",
       "    </tr>\n",
       "    <tr>\n",
       "      <th>r8_zip5</th>\n",
       "      <td>1046826.0</td>\n",
       "      <td>1.00</td>\n",
       "      <td>7.37</td>\n",
       "      <td>0.0</td>\n",
       "      <td>0.44</td>\n",
       "      <td>0.74</td>\n",
       "      <td>1.00</td>\n",
       "      <td>5527.75</td>\n",
       "    </tr>\n",
       "    <tr>\n",
       "      <th>r9_zip5</th>\n",
       "      <td>1046826.0</td>\n",
       "      <td>1.00</td>\n",
       "      <td>7.91</td>\n",
       "      <td>0.0</td>\n",
       "      <td>0.40</td>\n",
       "      <td>0.71</td>\n",
       "      <td>0.96</td>\n",
       "      <td>4864.74</td>\n",
       "    </tr>\n",
       "    <tr>\n",
       "      <th>r1_zip3</th>\n",
       "      <td>1046826.0</td>\n",
       "      <td>1.00</td>\n",
       "      <td>2.40</td>\n",
       "      <td>0.0</td>\n",
       "      <td>0.43</td>\n",
       "      <td>0.86</td>\n",
       "      <td>1.23</td>\n",
       "      <td>727.14</td>\n",
       "    </tr>\n",
       "    <tr>\n",
       "      <th>r2_zip3</th>\n",
       "      <td>1046826.0</td>\n",
       "      <td>1.00</td>\n",
       "      <td>2.12</td>\n",
       "      <td>0.0</td>\n",
       "      <td>0.40</td>\n",
       "      <td>0.95</td>\n",
       "      <td>1.27</td>\n",
       "      <td>756.25</td>\n",
       "    </tr>\n",
       "    <tr>\n",
       "      <th>r3_zip3</th>\n",
       "      <td>1046826.0</td>\n",
       "      <td>1.00</td>\n",
       "      <td>2.65</td>\n",
       "      <td>0.0</td>\n",
       "      <td>0.35</td>\n",
       "      <td>0.93</td>\n",
       "      <td>1.27</td>\n",
       "      <td>912.30</td>\n",
       "    </tr>\n",
       "    <tr>\n",
       "      <th>r4_zip3</th>\n",
       "      <td>1046826.0</td>\n",
       "      <td>1.00</td>\n",
       "      <td>6.39</td>\n",
       "      <td>0.0</td>\n",
       "      <td>0.28</td>\n",
       "      <td>0.69</td>\n",
       "      <td>1.06</td>\n",
       "      <td>2051.04</td>\n",
       "    </tr>\n",
       "    <tr>\n",
       "      <th>r5_zip3</th>\n",
       "      <td>1046826.0</td>\n",
       "      <td>1.00</td>\n",
       "      <td>17.12</td>\n",
       "      <td>0.0</td>\n",
       "      <td>0.30</td>\n",
       "      <td>0.77</td>\n",
       "      <td>1.05</td>\n",
       "      <td>15414.36</td>\n",
       "    </tr>\n",
       "    <tr>\n",
       "      <th>r6_zip3</th>\n",
       "      <td>1046826.0</td>\n",
       "      <td>1.00</td>\n",
       "      <td>16.14</td>\n",
       "      <td>0.0</td>\n",
       "      <td>0.22</td>\n",
       "      <td>0.70</td>\n",
       "      <td>1.00</td>\n",
       "      <td>9790.65</td>\n",
       "    </tr>\n",
       "    <tr>\n",
       "      <th>r7_zip3</th>\n",
       "      <td>1046826.0</td>\n",
       "      <td>1.00</td>\n",
       "      <td>7.31</td>\n",
       "      <td>0.0</td>\n",
       "      <td>0.26</td>\n",
       "      <td>0.54</td>\n",
       "      <td>0.83</td>\n",
       "      <td>2407.60</td>\n",
       "    </tr>\n",
       "    <tr>\n",
       "      <th>r8_zip3</th>\n",
       "      <td>1046826.0</td>\n",
       "      <td>1.00</td>\n",
       "      <td>22.53</td>\n",
       "      <td>0.0</td>\n",
       "      <td>0.42</td>\n",
       "      <td>0.70</td>\n",
       "      <td>0.93</td>\n",
       "      <td>21881.14</td>\n",
       "    </tr>\n",
       "    <tr>\n",
       "      <th>r9_zip3</th>\n",
       "      <td>1046826.0</td>\n",
       "      <td>1.00</td>\n",
       "      <td>16.31</td>\n",
       "      <td>0.0</td>\n",
       "      <td>0.39</td>\n",
       "      <td>0.68</td>\n",
       "      <td>0.93</td>\n",
       "      <td>14530.83</td>\n",
       "    </tr>\n",
       "    <tr>\n",
       "      <th>r1_taxclass</th>\n",
       "      <td>1046826.0</td>\n",
       "      <td>1.00</td>\n",
       "      <td>2.93</td>\n",
       "      <td>0.0</td>\n",
       "      <td>0.37</td>\n",
       "      <td>0.68</td>\n",
       "      <td>1.06</td>\n",
       "      <td>1119.59</td>\n",
       "    </tr>\n",
       "    <tr>\n",
       "      <th>r2_taxclass</th>\n",
       "      <td>1046826.0</td>\n",
       "      <td>1.00</td>\n",
       "      <td>3.74</td>\n",
       "      <td>0.0</td>\n",
       "      <td>0.49</td>\n",
       "      <td>0.78</td>\n",
       "      <td>1.06</td>\n",
       "      <td>1525.68</td>\n",
       "    </tr>\n",
       "    <tr>\n",
       "      <th>r3_taxclass</th>\n",
       "      <td>1046826.0</td>\n",
       "      <td>1.00</td>\n",
       "      <td>3.48</td>\n",
       "      <td>0.0</td>\n",
       "      <td>0.49</td>\n",
       "      <td>0.81</td>\n",
       "      <td>1.11</td>\n",
       "      <td>923.91</td>\n",
       "    </tr>\n",
       "    <tr>\n",
       "      <th>r4_taxclass</th>\n",
       "      <td>1046826.0</td>\n",
       "      <td>1.00</td>\n",
       "      <td>3.32</td>\n",
       "      <td>0.0</td>\n",
       "      <td>0.32</td>\n",
       "      <td>0.71</td>\n",
       "      <td>1.10</td>\n",
       "      <td>1438.08</td>\n",
       "    </tr>\n",
       "    <tr>\n",
       "      <th>r5_taxclass</th>\n",
       "      <td>1046826.0</td>\n",
       "      <td>1.00</td>\n",
       "      <td>6.44</td>\n",
       "      <td>0.0</td>\n",
       "      <td>0.33</td>\n",
       "      <td>0.82</td>\n",
       "      <td>1.12</td>\n",
       "      <td>4260.03</td>\n",
       "    </tr>\n",
       "    <tr>\n",
       "      <th>r6_taxclass</th>\n",
       "      <td>1046826.0</td>\n",
       "      <td>1.00</td>\n",
       "      <td>6.31</td>\n",
       "      <td>0.0</td>\n",
       "      <td>0.30</td>\n",
       "      <td>0.82</td>\n",
       "      <td>1.14</td>\n",
       "      <td>3169.93</td>\n",
       "    </tr>\n",
       "    <tr>\n",
       "      <th>r7_taxclass</th>\n",
       "      <td>1046826.0</td>\n",
       "      <td>1.00</td>\n",
       "      <td>2.95</td>\n",
       "      <td>0.0</td>\n",
       "      <td>0.38</td>\n",
       "      <td>0.73</td>\n",
       "      <td>1.12</td>\n",
       "      <td>1286.40</td>\n",
       "    </tr>\n",
       "    <tr>\n",
       "      <th>r8_taxclass</th>\n",
       "      <td>1046826.0</td>\n",
       "      <td>1.00</td>\n",
       "      <td>6.13</td>\n",
       "      <td>0.0</td>\n",
       "      <td>0.45</td>\n",
       "      <td>0.84</td>\n",
       "      <td>1.12</td>\n",
       "      <td>4680.65</td>\n",
       "    </tr>\n",
       "    <tr>\n",
       "      <th>r9_taxclass</th>\n",
       "      <td>1046826.0</td>\n",
       "      <td>1.00</td>\n",
       "      <td>5.63</td>\n",
       "      <td>0.0</td>\n",
       "      <td>0.45</td>\n",
       "      <td>0.84</td>\n",
       "      <td>1.15</td>\n",
       "      <td>4204.08</td>\n",
       "    </tr>\n",
       "    <tr>\n",
       "      <th>r1_boro</th>\n",
       "      <td>1046826.0</td>\n",
       "      <td>1.00</td>\n",
       "      <td>2.37</td>\n",
       "      <td>0.0</td>\n",
       "      <td>0.42</td>\n",
       "      <td>0.84</td>\n",
       "      <td>1.24</td>\n",
       "      <td>727.14</td>\n",
       "    </tr>\n",
       "    <tr>\n",
       "      <th>r2_boro</th>\n",
       "      <td>1046826.0</td>\n",
       "      <td>1.00</td>\n",
       "      <td>2.00</td>\n",
       "      <td>0.0</td>\n",
       "      <td>0.40</td>\n",
       "      <td>0.95</td>\n",
       "      <td>1.27</td>\n",
       "      <td>756.58</td>\n",
       "    </tr>\n",
       "    <tr>\n",
       "      <th>r3_boro</th>\n",
       "      <td>1046826.0</td>\n",
       "      <td>1.00</td>\n",
       "      <td>2.54</td>\n",
       "      <td>0.0</td>\n",
       "      <td>0.35</td>\n",
       "      <td>0.92</td>\n",
       "      <td>1.28</td>\n",
       "      <td>932.87</td>\n",
       "    </tr>\n",
       "    <tr>\n",
       "      <th>r4_boro</th>\n",
       "      <td>1046826.0</td>\n",
       "      <td>1.00</td>\n",
       "      <td>6.31</td>\n",
       "      <td>0.0</td>\n",
       "      <td>0.27</td>\n",
       "      <td>0.67</td>\n",
       "      <td>1.06</td>\n",
       "      <td>2054.62</td>\n",
       "    </tr>\n",
       "    <tr>\n",
       "      <th>r5_boro</th>\n",
       "      <td>1046826.0</td>\n",
       "      <td>1.00</td>\n",
       "      <td>17.15</td>\n",
       "      <td>0.0</td>\n",
       "      <td>0.30</td>\n",
       "      <td>0.77</td>\n",
       "      <td>1.05</td>\n",
       "      <td>15466.54</td>\n",
       "    </tr>\n",
       "    <tr>\n",
       "      <th>r6_boro</th>\n",
       "      <td>1046826.0</td>\n",
       "      <td>1.00</td>\n",
       "      <td>16.04</td>\n",
       "      <td>0.0</td>\n",
       "      <td>0.22</td>\n",
       "      <td>0.70</td>\n",
       "      <td>1.00</td>\n",
       "      <td>9483.22</td>\n",
       "    </tr>\n",
       "    <tr>\n",
       "      <th>r7_boro</th>\n",
       "      <td>1046826.0</td>\n",
       "      <td>1.00</td>\n",
       "      <td>7.28</td>\n",
       "      <td>0.0</td>\n",
       "      <td>0.26</td>\n",
       "      <td>0.51</td>\n",
       "      <td>0.81</td>\n",
       "      <td>2407.60</td>\n",
       "    </tr>\n",
       "    <tr>\n",
       "      <th>r8_boro</th>\n",
       "      <td>1046826.0</td>\n",
       "      <td>1.00</td>\n",
       "      <td>21.93</td>\n",
       "      <td>0.0</td>\n",
       "      <td>0.41</td>\n",
       "      <td>0.70</td>\n",
       "      <td>0.93</td>\n",
       "      <td>21241.27</td>\n",
       "    </tr>\n",
       "    <tr>\n",
       "      <th>r9_boro</th>\n",
       "      <td>1046826.0</td>\n",
       "      <td>1.00</td>\n",
       "      <td>15.73</td>\n",
       "      <td>0.0</td>\n",
       "      <td>0.39</td>\n",
       "      <td>0.67</td>\n",
       "      <td>0.94</td>\n",
       "      <td>13819.33</td>\n",
       "    </tr>\n",
       "  </tbody>\n",
       "</table>\n",
       "</div>"
      ],
      "text/plain": [
       "                 count    mean      std  min     25%     50%     75%  \\\n",
       "r1           1046826.0  213.57   532.56  0.0   76.26  152.86  243.18   \n",
       "r2           1046826.0  536.42  1027.44  0.0  211.82  500.00  683.82   \n",
       "r3           1046826.0  244.08   498.82  0.0   82.50  239.06  336.23   \n",
       "r4           1046826.0   10.46    69.98  0.0    2.35    4.60    7.23   \n",
       "r5           1046826.0   22.82   378.51  0.0    6.20   14.98   20.29   \n",
       "r6           1046826.0   10.04   178.33  0.0    2.02    7.15   10.04   \n",
       "r7           1046826.0   26.83   203.87  0.0    5.28    8.58   13.53   \n",
       "r8           1046826.0   50.46   932.20  0.0   17.47   26.98   36.00   \n",
       "r9           1046826.0   19.07   327.02  0.0    7.09   12.68   17.58   \n",
       "r1_zip5      1046826.0    1.00     2.16  0.0    0.46    0.92    1.23   \n",
       "r2_zip5      1046826.0    1.00     2.13  0.0    0.44    0.96    1.26   \n",
       "r3_zip5      1046826.0    1.00     2.73  0.0    0.39    0.93    1.24   \n",
       "r4_zip5      1046826.0    1.00     5.13  0.0    0.28    0.75    1.10   \n",
       "r5_zip5      1046826.0    1.00     8.17  0.0    0.34    0.80    1.08   \n",
       "r6_zip5      1046826.0    1.00    10.01  0.0    0.25    0.73    1.02   \n",
       "r7_zip5      1046826.0    1.00     5.81  0.0    0.29    0.63    0.95   \n",
       "r8_zip5      1046826.0    1.00     7.37  0.0    0.44    0.74    1.00   \n",
       "r9_zip5      1046826.0    1.00     7.91  0.0    0.40    0.71    0.96   \n",
       "r1_zip3      1046826.0    1.00     2.40  0.0    0.43    0.86    1.23   \n",
       "r2_zip3      1046826.0    1.00     2.12  0.0    0.40    0.95    1.27   \n",
       "r3_zip3      1046826.0    1.00     2.65  0.0    0.35    0.93    1.27   \n",
       "r4_zip3      1046826.0    1.00     6.39  0.0    0.28    0.69    1.06   \n",
       "r5_zip3      1046826.0    1.00    17.12  0.0    0.30    0.77    1.05   \n",
       "r6_zip3      1046826.0    1.00    16.14  0.0    0.22    0.70    1.00   \n",
       "r7_zip3      1046826.0    1.00     7.31  0.0    0.26    0.54    0.83   \n",
       "r8_zip3      1046826.0    1.00    22.53  0.0    0.42    0.70    0.93   \n",
       "r9_zip3      1046826.0    1.00    16.31  0.0    0.39    0.68    0.93   \n",
       "r1_taxclass  1046826.0    1.00     2.93  0.0    0.37    0.68    1.06   \n",
       "r2_taxclass  1046826.0    1.00     3.74  0.0    0.49    0.78    1.06   \n",
       "r3_taxclass  1046826.0    1.00     3.48  0.0    0.49    0.81    1.11   \n",
       "r4_taxclass  1046826.0    1.00     3.32  0.0    0.32    0.71    1.10   \n",
       "r5_taxclass  1046826.0    1.00     6.44  0.0    0.33    0.82    1.12   \n",
       "r6_taxclass  1046826.0    1.00     6.31  0.0    0.30    0.82    1.14   \n",
       "r7_taxclass  1046826.0    1.00     2.95  0.0    0.38    0.73    1.12   \n",
       "r8_taxclass  1046826.0    1.00     6.13  0.0    0.45    0.84    1.12   \n",
       "r9_taxclass  1046826.0    1.00     5.63  0.0    0.45    0.84    1.15   \n",
       "r1_boro      1046826.0    1.00     2.37  0.0    0.42    0.84    1.24   \n",
       "r2_boro      1046826.0    1.00     2.00  0.0    0.40    0.95    1.27   \n",
       "r3_boro      1046826.0    1.00     2.54  0.0    0.35    0.92    1.28   \n",
       "r4_boro      1046826.0    1.00     6.31  0.0    0.27    0.67    1.06   \n",
       "r5_boro      1046826.0    1.00    17.15  0.0    0.30    0.77    1.05   \n",
       "r6_boro      1046826.0    1.00    16.04  0.0    0.22    0.70    1.00   \n",
       "r7_boro      1046826.0    1.00     7.28  0.0    0.26    0.51    0.81   \n",
       "r8_boro      1046826.0    1.00    21.93  0.0    0.41    0.70    0.93   \n",
       "r9_boro      1046826.0    1.00    15.73  0.0    0.39    0.67    0.94   \n",
       "\n",
       "                   max  \n",
       "r1           138637.34  \n",
       "r2           310551.57  \n",
       "r3           227500.00  \n",
       "r4            22249.80  \n",
       "r5           334636.37  \n",
       "r6           111545.46  \n",
       "r7            64711.85  \n",
       "r8           871362.22  \n",
       "r9           290454.07  \n",
       "r1_zip5         747.76  \n",
       "r2_zip5         658.74  \n",
       "r3_zip5         956.75  \n",
       "r4_zip5        2456.16  \n",
       "r5_zip5        5004.51  \n",
       "r6_zip5        4200.70  \n",
       "r7_zip5        3237.54  \n",
       "r8_zip5        5527.75  \n",
       "r9_zip5        4864.74  \n",
       "r1_zip3         727.14  \n",
       "r2_zip3         756.25  \n",
       "r3_zip3         912.30  \n",
       "r4_zip3        2051.04  \n",
       "r5_zip3       15414.36  \n",
       "r6_zip3        9790.65  \n",
       "r7_zip3        2407.60  \n",
       "r8_zip3       21881.14  \n",
       "r9_zip3       14530.83  \n",
       "r1_taxclass    1119.59  \n",
       "r2_taxclass    1525.68  \n",
       "r3_taxclass     923.91  \n",
       "r4_taxclass    1438.08  \n",
       "r5_taxclass    4260.03  \n",
       "r6_taxclass    3169.93  \n",
       "r7_taxclass    1286.40  \n",
       "r8_taxclass    4680.65  \n",
       "r9_taxclass    4204.08  \n",
       "r1_boro         727.14  \n",
       "r2_boro         756.58  \n",
       "r3_boro         932.87  \n",
       "r4_boro        2054.62  \n",
       "r5_boro       15466.54  \n",
       "r6_boro        9483.22  \n",
       "r7_boro        2407.60  \n",
       "r8_boro       21241.27  \n",
       "r9_boro       13819.33  "
      ]
     },
     "execution_count": 32,
     "metadata": {},
     "output_type": "execute_result"
    }
   ],
   "source": [
    "a"
   ]
  },
  {
   "cell_type": "code",
   "execution_count": 33,
   "metadata": {},
   "outputs": [],
   "source": [
    "a.to_excel('stats_on_vars_FaresAlMuhtaseb.xls')"
   ]
  },
  {
   "cell_type": "code",
   "execution_count": null,
   "metadata": {},
   "outputs": [],
   "source": []
  }
 ],
 "metadata": {
  "kernelspec": {
   "display_name": "Python 3",
   "language": "python",
   "name": "python3"
  },
  "language_info": {
   "codemirror_mode": {
    "name": "ipython",
    "version": 3
   },
   "file_extension": ".py",
   "mimetype": "text/x-python",
   "name": "python",
   "nbconvert_exporter": "python",
   "pygments_lexer": "ipython3",
   "version": "3.8.5"
  }
 },
 "nbformat": 4,
 "nbformat_minor": 4
}
